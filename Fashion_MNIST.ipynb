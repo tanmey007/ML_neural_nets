{
  "nbformat": 4,
  "nbformat_minor": 0,
  "metadata": {
    "colab": {
      "name": "Fashion_MNIST.ipynb",
      "provenance": [],
      "authorship_tag": "ABX9TyORoYgsly7fj2L94HJ6bkmm",
      "include_colab_link": true
    },
    "kernelspec": {
      "name": "python3",
      "display_name": "Python 3"
    },
    "accelerator": "GPU"
  },
  "cells": [
    {
      "cell_type": "markdown",
      "metadata": {
        "id": "view-in-github",
        "colab_type": "text"
      },
      "source": [
        "<a href=\"https://colab.research.google.com/github/tanmey007/ML_neural_nets/blob/master/Fashion_MNIST.ipynb\" target=\"_parent\"><img src=\"https://colab.research.google.com/assets/colab-badge.svg\" alt=\"Open In Colab\"/></a>"
      ]
    },
    {
      "cell_type": "markdown",
      "metadata": {
        "id": "ForhoZzABm8e",
        "colab_type": "text"
      },
      "source": [
        "## Setup\n"
      ]
    },
    {
      "cell_type": "code",
      "metadata": {
        "id": "SQ3oH0VBOhrT",
        "colab_type": "code",
        "colab": {}
      },
      "source": [
        "import tensorflow as tf"
      ],
      "execution_count": 0,
      "outputs": []
    },
    {
      "cell_type": "code",
      "metadata": {
        "id": "0TL6B8EUQPSb",
        "colab_type": "code",
        "colab": {}
      },
      "source": [
        "from tensorflow import keras"
      ],
      "execution_count": 0,
      "outputs": []
    },
    {
      "cell_type": "markdown",
      "metadata": {
        "id": "LfkblggYJhSS",
        "colab_type": "text"
      },
      "source": [
        "## Just checking version\n"
      ]
    },
    {
      "cell_type": "code",
      "metadata": {
        "id": "xLKkPawwRi0R",
        "colab_type": "code",
        "outputId": "81d9f939-a9ff-4c2e-82df-5cd390d22498",
        "colab": {
          "base_uri": "https://localhost:8080/",
          "height": 34
        }
      },
      "source": [
        "tf.__version__"
      ],
      "execution_count": 3,
      "outputs": [
        {
          "output_type": "execute_result",
          "data": {
            "text/plain": [
              "'2.2.0'"
            ]
          },
          "metadata": {
            "tags": []
          },
          "execution_count": 3
        }
      ]
    },
    {
      "cell_type": "code",
      "metadata": {
        "id": "xwCmMSMARpHa",
        "colab_type": "code",
        "outputId": "d271e948-13ed-4cf2-8f1a-65da89303dfd",
        "colab": {
          "base_uri": "https://localhost:8080/",
          "height": 34
        }
      },
      "source": [
        "keras.__version__"
      ],
      "execution_count": 4,
      "outputs": [
        {
          "output_type": "execute_result",
          "data": {
            "text/plain": [
              "'2.3.0-tf'"
            ]
          },
          "metadata": {
            "tags": []
          },
          "execution_count": 4
        }
      ]
    },
    {
      "cell_type": "markdown",
      "metadata": {
        "id": "HDoH2foJJp2F",
        "colab_type": "text"
      },
      "source": [
        "## Classification\n"
      ]
    },
    {
      "cell_type": "markdown",
      "metadata": {
        "id": "VOM1kjTX_Mdt",
        "colab_type": "text"
      },
      "source": [
        "Fashion-MNIST is a dataset of Zalando's article images—consisting of a training set of 60,000 examples and a test set of 10,000 examples. Each example is a 28x28 grayscale image, associated with a label from 10 classes. We intend Fashion-MNIST to serve as a direct drop-in replacement for the original MNIST dataset for benchmarking machine learning algorithms. It shares the same image size and structure of training and testing splits.\n"
      ]
    },
    {
      "cell_type": "markdown",
      "metadata": {
        "id": "BjNTArF4uku8",
        "colab_type": "text"
      },
      "source": [
        "this dataset contains fashion items as are target classes\n"
      ]
    },
    {
      "cell_type": "code",
      "metadata": {
        "id": "lOpc4r1TrIcf",
        "colab_type": "code",
        "colab": {}
      },
      "source": [
        "fashion_mnist=keras.datasets.fashion_mnist"
      ],
      "execution_count": 0,
      "outputs": []
    },
    {
      "cell_type": "code",
      "metadata": {
        "id": "J8oq5ltTwSMl",
        "colab_type": "code",
        "outputId": "dcfbe6de-c00c-4ef0-fddb-ee7b5a3d454a",
        "colab": {
          "base_uri": "https://localhost:8080/",
          "height": 151
        }
      },
      "source": [
        "(X_train_full,y_train_full),(X_test,y_test)=fashion_mnist.load_data()"
      ],
      "execution_count": 6,
      "outputs": [
        {
          "output_type": "stream",
          "text": [
            "Downloading data from https://storage.googleapis.com/tensorflow/tf-keras-datasets/train-labels-idx1-ubyte.gz\n",
            "32768/29515 [=================================] - 0s 0us/step\n",
            "Downloading data from https://storage.googleapis.com/tensorflow/tf-keras-datasets/train-images-idx3-ubyte.gz\n",
            "26427392/26421880 [==============================] - 0s 0us/step\n",
            "Downloading data from https://storage.googleapis.com/tensorflow/tf-keras-datasets/t10k-labels-idx1-ubyte.gz\n",
            "8192/5148 [===============================================] - 0s 0us/step\n",
            "Downloading data from https://storage.googleapis.com/tensorflow/tf-keras-datasets/t10k-images-idx3-ubyte.gz\n",
            "4423680/4422102 [==============================] - 0s 0us/step\n"
          ],
          "name": "stdout"
        }
      ]
    },
    {
      "cell_type": "markdown",
      "metadata": {
        "id": "yxxpaUIfOB7_",
        "colab_type": "text"
      },
      "source": [
        "Let's create validation dataset from training set and scale it"
      ]
    },
    {
      "cell_type": "code",
      "metadata": {
        "id": "ERBu9HF7w_Ox",
        "colab_type": "code",
        "colab": {}
      },
      "source": [
        "X_valid,X_train=X_train_full[:5000]/255.0,X_train_full[5000:]/255.0"
      ],
      "execution_count": 0,
      "outputs": []
    },
    {
      "cell_type": "code",
      "metadata": {
        "id": "DgrdRwMWx-HQ",
        "colab_type": "code",
        "colab": {}
      },
      "source": [
        "y_valid,y_train=y_train_full[:5000],y_train_full[5000:]"
      ],
      "execution_count": 0,
      "outputs": []
    },
    {
      "cell_type": "code",
      "metadata": {
        "id": "qP6nmRjVy_4U",
        "colab_type": "code",
        "colab": {}
      },
      "source": [
        "X_test=X_test/255.0"
      ],
      "execution_count": 0,
      "outputs": []
    },
    {
      "cell_type": "code",
      "metadata": {
        "id": "0AI_1h_U1sMH",
        "colab_type": "code",
        "outputId": "c30b687f-9b4e-4952-b9dd-bd290d6eb673",
        "colab": {
          "base_uri": "https://localhost:8080/",
          "height": 282
        }
      },
      "source": [
        "import matplotlib.pyplot as plt\n",
        "plt.imshow(X_train[0], cmap=\"binary\")"
      ],
      "execution_count": 10,
      "outputs": [
        {
          "output_type": "execute_result",
          "data": {
            "text/plain": [
              "<matplotlib.image.AxesImage at 0x7fbe5e1d69b0>"
            ]
          },
          "metadata": {
            "tags": []
          },
          "execution_count": 10
        },
        {
          "output_type": "display_data",
          "data": {
            "image/png": "[encoded data removed]",
            "text/plain": [
              "<Figure size 432x288 with 1 Axes>"
            ]
          },
          "metadata": {
            "tags": [],
            "needs_background": "light"
          }
        }
      ]
    },
    {
      "cell_type": "code",
      "metadata": {
        "id": "9mUep11w0Aqo",
        "colab_type": "code",
        "colab": {}
      },
      "source": [
        "class_names = [\"T-shirt/top\", \"Trouser\", \"Pullover\", \"Dress\", \"Coat\",\n",
        "               \"Sandal\", \"Shirt\", \"Sneaker\", \"Bag\", \"Ankle boot\"]"
      ],
      "execution_count": 0,
      "outputs": []
    },
    {
      "cell_type": "markdown",
      "metadata": {
        "id": "0wb_aqfH49Kj",
        "colab_type": "text"
      },
      "source": [
        "[source of class_names](https://github.com/zalandoresearch/fashion-mnist)\n",
        "\n"
      ]
    },
    {
      "cell_type": "code",
      "metadata": {
        "id": "H7Jgkuks48f2",
        "colab_type": "code",
        "outputId": "d365cad6-903c-41a1-ef83-895ce6535fa0",
        "colab": {
          "base_uri": "https://localhost:8080/",
          "height": 34
        }
      },
      "source": [
        "class_names[y_train[0]]"
      ],
      "execution_count": 12,
      "outputs": [
        {
          "output_type": "execute_result",
          "data": {
            "text/plain": [
              "'Coat'"
            ]
          },
          "metadata": {
            "tags": []
          },
          "execution_count": 12
        }
      ]
    },
    {
      "cell_type": "code",
      "metadata": {
        "id": "SikS3cG4JxjF",
        "colab_type": "code",
        "outputId": "b7c29ab0-7e84-4dd8-8d9e-61a7b7ca9ef2",
        "colab": {
          "base_uri": "https://localhost:8080/",
          "height": 373
        }
      },
      "source": [
        "n_rows = 5\n",
        "n_cols = 10\n",
        "plt.figure(figsize=(n_cols * 1.2, n_rows * 1.2))\n",
        "for row in range(n_rows):\n",
        "    for col in range(n_cols):\n",
        "        index = n_cols * row + col\n",
        "        plt.subplot(n_rows, n_cols, index + 1)\n",
        "        plt.imshow(X_train[index], cmap=\"binary\", interpolation=\"nearest\")\n",
        "        plt.axis('off')\n",
        "        plt.title(class_names[y_train[index]], fontsize=12)\n",
        "plt.subplots_adjust(wspace=0.2, hspace=0.5)"
      ],
      "execution_count": 13,
      "outputs": [
        {
          "output_type": "display_data",
          "data": {
            "image/png": "[encoded data removed]",
            "text/plain": [
              "<Figure size 864x432 with 50 Axes>"
            ]
          },
          "metadata": {
            "tags": [],
            "needs_background": "light"
          }
        }
      ]
    },
    {
      "cell_type": "markdown",
      "metadata": {
        "id": "W6gGogVNOPH0",
        "colab_type": "text"
      },
      "source": [
        "Blueprint of model"
      ]
    },
    {
      "cell_type": "code",
      "metadata": {
        "id": "BwJIhZbs6Dkh",
        "colab_type": "code",
        "colab": {}
      },
      "source": [
        "model = keras.models.Sequential()\n",
        "model.add(keras.layers.Flatten(input_shape=[28, 28]))\n",
        "model.add(keras.layers.Dense(300, activation=\"relu\"))\n",
        "model.add(keras.layers.Dense(100, activation=\"relu\"))\n",
        "model.add(keras.layers.Dense(10, activation=\"softmax\"))"
      ],
      "execution_count": 0,
      "outputs": []
    },
    {
      "cell_type": "code",
      "metadata": {
        "id": "dfnGJZrf7anW",
        "colab_type": "code",
        "outputId": "b5fd9d5b-d592-4569-e045-bf8417ac1b0c",
        "colab": {
          "base_uri": "https://localhost:8080/",
          "height": 466
        }
      },
      "source": [
        "keras.utils.plot_model(model)"
      ],
      "execution_count": 15,
      "outputs": [
        {
          "output_type": "execute_result",
          "data": {
            "image/png": "[encoded data removed]",
            "text/plain": [
              "<IPython.core.display.Image object>"
            ]
          },
          "metadata": {
            "tags": []
          },
          "execution_count": 15
        }
      ]
    },
    {
      "cell_type": "code",
      "metadata": {
        "id": "HmQjoLFf760h",
        "colab_type": "code",
        "outputId": "8ae7c72a-fbe2-4f65-9c61-f3cc642a2bf3",
        "colab": {
          "base_uri": "https://localhost:8080/",
          "height": 286
        }
      },
      "source": [
        "model.summary()"
      ],
      "execution_count": 16,
      "outputs": [
        {
          "output_type": "stream",
          "text": [
            "Model: \"sequential\"\n",
            "_________________________________________________________________\n",
            "Layer (type)                 Output Shape              Param #   \n",
            "=================================================================\n",
            "flatten (Flatten)            (None, 784)               0         \n",
            "_________________________________________________________________\n",
            "dense (Dense)                (None, 300)               235500    \n",
            "_________________________________________________________________\n",
            "dense_1 (Dense)              (None, 100)               30100     \n",
            "_________________________________________________________________\n",
            "dense_2 (Dense)              (None, 10)                1010      \n",
            "=================================================================\n",
            "Total params: 266,610\n",
            "Trainable params: 266,610\n",
            "Non-trainable params: 0\n",
            "_________________________________________________________________\n"
          ],
          "name": "stdout"
        }
      ]
    },
    {
      "cell_type": "code",
      "metadata": {
        "id": "Up9L2MZf8bdL",
        "colab_type": "code",
        "outputId": "4c0ce2f1-7c35-41f9-96dd-7046b90a0c23",
        "colab": {
          "base_uri": "https://localhost:8080/",
          "height": 84
        }
      },
      "source": [
        "model.layers"
      ],
      "execution_count": 17,
      "outputs": [
        {
          "output_type": "execute_result",
          "data": {
            "text/plain": [
              "[<tensorflow.python.keras.layers.core.Flatten at 0x7fbe5dadfac8>,\n",
              " <tensorflow.python.keras.layers.core.Dense at 0x7fbe5da787b8>,\n",
              " <tensorflow.python.keras.layers.core.Dense at 0x7fbe5dac2ba8>,\n",
              " <tensorflow.python.keras.layers.core.Dense at 0x7fbe5daabc50>]"
            ]
          },
          "metadata": {
            "tags": []
          },
          "execution_count": 17
        }
      ]
    },
    {
      "cell_type": "code",
      "metadata": {
        "id": "uvxdkLNF8m6J",
        "colab_type": "code",
        "colab": {}
      },
      "source": [
        "input_layer=model.layers[0]\n",
        "hidden_layer1=model.layers[1]\n",
        "hidden_layer2=model.layers[2]\n",
        "output_layer=model.layers[3]"
      ],
      "execution_count": 0,
      "outputs": []
    },
    {
      "cell_type": "code",
      "metadata": {
        "id": "54nGNZo29B1h",
        "colab_type": "code",
        "colab": {}
      },
      "source": [
        "weights2,bias2=hidden_layer2.get_weights()"
      ],
      "execution_count": 0,
      "outputs": []
    },
    {
      "cell_type": "code",
      "metadata": {
        "id": "JeuOxWvp9LnI",
        "colab_type": "code",
        "outputId": "6165b07e-3eb8-4d44-bcac-834da9f5a915",
        "colab": {
          "base_uri": "https://localhost:8080/",
          "height": 235
        }
      },
      "source": [
        "weights2"
      ],
      "execution_count": 20,
      "outputs": [
        {
          "output_type": "execute_result",
          "data": {
            "text/plain": [
              "array([[-0.00155254, -0.12105258, -0.06534276, ...,  0.11972701,\n",
              "         0.00305072, -0.00756536],\n",
              "       [ 0.03581426, -0.03463382, -0.07229237, ...,  0.10854184,\n",
              "        -0.06282042, -0.01142072],\n",
              "       [-0.09807915,  0.07529036, -0.05297332, ..., -0.01265822,\n",
              "         0.04321019,  0.02628291],\n",
              "       ...,\n",
              "       [ 0.04068492, -0.08063406,  0.04056575, ..., -0.1127248 ,\n",
              "         0.05338787,  0.07537989],\n",
              "       [-0.01615641,  0.06037695,  0.01530286, ..., -0.10906225,\n",
              "        -0.09454841,  0.10174813],\n",
              "       [ 0.11032974,  0.1149971 , -0.01878694, ...,  0.05037459,\n",
              "        -0.02806588, -0.10623854]], dtype=float32)"
            ]
          },
          "metadata": {
            "tags": []
          },
          "execution_count": 20
        }
      ]
    },
    {
      "cell_type": "code",
      "metadata": {
        "id": "4Y70XwoS9P2S",
        "colab_type": "code",
        "outputId": "5c820a28-2b87-4b94-ac33-2074f71fa81b",
        "colab": {
          "base_uri": "https://localhost:8080/",
          "height": 34
        }
      },
      "source": [
        "weights2.shape"
      ],
      "execution_count": 0,
      "outputs": [
        {
          "output_type": "execute_result",
          "data": {
            "text/plain": [
              "(300, 100)"
            ]
          },
          "metadata": {
            "tags": []
          },
          "execution_count": 23
        }
      ]
    },
    {
      "cell_type": "code",
      "metadata": {
        "id": "Rx2ZwjVO9VN7",
        "colab_type": "code",
        "outputId": "02cb931a-be89-4d7c-f830-22ac4f26c42f",
        "colab": {
          "base_uri": "https://localhost:8080/",
          "height": 134
        }
      },
      "source": [
        "bias2"
      ],
      "execution_count": 21,
      "outputs": [
        {
          "output_type": "execute_result",
          "data": {
            "text/plain": [
              "array([0., 0., 0., 0., 0., 0., 0., 0., 0., 0., 0., 0., 0., 0., 0., 0., 0.,\n",
              "       0., 0., 0., 0., 0., 0., 0., 0., 0., 0., 0., 0., 0., 0., 0., 0., 0.,\n",
              "       0., 0., 0., 0., 0., 0., 0., 0., 0., 0., 0., 0., 0., 0., 0., 0., 0.,\n",
              "       0., 0., 0., 0., 0., 0., 0., 0., 0., 0., 0., 0., 0., 0., 0., 0., 0.,\n",
              "       0., 0., 0., 0., 0., 0., 0., 0., 0., 0., 0., 0., 0., 0., 0., 0., 0.,\n",
              "       0., 0., 0., 0., 0., 0., 0., 0., 0., 0., 0., 0., 0., 0., 0.],\n",
              "      dtype=float32)"
            ]
          },
          "metadata": {
            "tags": []
          },
          "execution_count": 21
        }
      ]
    },
    {
      "cell_type": "code",
      "metadata": {
        "id": "cb9kBEq29ja3",
        "colab_type": "code",
        "colab": {}
      },
      "source": [
        "model.compile(loss=\"sparse_categorical_crossentropy\",\n",
        "optimizer=\"sgd\",\n",
        "metrics=[\"accuracy\"])"
      ],
      "execution_count": 0,
      "outputs": []
    },
    {
      "cell_type": "markdown",
      "metadata": {
        "id": "CG9AqtC_N3qm",
        "colab_type": "text"
      },
      "source": [
        "Building model\n"
      ]
    },
    {
      "cell_type": "code",
      "metadata": {
        "id": "-Q-dNkcmDLY5",
        "colab_type": "code",
        "outputId": "27e8f056-c86c-4c21-b971-8b8a845f7df4",
        "colab": {
          "base_uri": "https://localhost:8080/",
          "height": 1000
        }
      },
      "source": [
        "history = model.fit(X_train, y_train, epochs=30,validation_data=(X_valid, y_valid))"
      ],
      "execution_count": 27,
      "outputs": [
        {
          "output_type": "stream",
          "text": [
            "Epoch 1/30\n",
            "1719/1719 [==============================] - 5s 3ms/step - loss: 0.2225 - accuracy: 0.9201 - val_loss: 0.2996 - val_accuracy: 0.8920\n",
            "Epoch 2/30\n",
            "1719/1719 [==============================] - 5s 3ms/step - loss: 0.2189 - accuracy: 0.9216 - val_loss: 0.2967 - val_accuracy: 0.8896\n",
            "Epoch 3/30\n",
            "1719/1719 [==============================] - 5s 3ms/step - loss: 0.2153 - accuracy: 0.9230 - val_loss: 0.2937 - val_accuracy: 0.8914\n",
            "Epoch 4/30\n",
            "1719/1719 [==============================] - 5s 3ms/step - loss: 0.2124 - accuracy: 0.9239 - val_loss: 0.3011 - val_accuracy: 0.8894\n",
            "Epoch 5/30\n",
            "1719/1719 [==============================] - 5s 3ms/step - loss: 0.2083 - accuracy: 0.9258 - val_loss: 0.2940 - val_accuracy: 0.8938\n",
            "Epoch 6/30\n",
            "1719/1719 [==============================] - 5s 3ms/step - loss: 0.2060 - accuracy: 0.9265 - val_loss: 0.2901 - val_accuracy: 0.8920\n",
            "Epoch 7/30\n",
            "1719/1719 [==============================] - 5s 3ms/step - loss: 0.2020 - accuracy: 0.9271 - val_loss: 0.3116 - val_accuracy: 0.8918\n",
            "Epoch 8/30\n",
            "1719/1719 [==============================] - 5s 3ms/step - loss: 0.1990 - accuracy: 0.9278 - val_loss: 0.2997 - val_accuracy: 0.8924\n",
            "Epoch 9/30\n",
            "1719/1719 [==============================] - 5s 3ms/step - loss: 0.1953 - accuracy: 0.9302 - val_loss: 0.2937 - val_accuracy: 0.8942\n",
            "Epoch 10/30\n",
            "1719/1719 [==============================] - 5s 3ms/step - loss: 0.1924 - accuracy: 0.9306 - val_loss: 0.3209 - val_accuracy: 0.8830\n",
            "Epoch 11/30\n",
            "1719/1719 [==============================] - 5s 3ms/step - loss: 0.1894 - accuracy: 0.9329 - val_loss: 0.3117 - val_accuracy: 0.8834\n",
            "Epoch 12/30\n",
            "1719/1719 [==============================] - 5s 3ms/step - loss: 0.1863 - accuracy: 0.9335 - val_loss: 0.2872 - val_accuracy: 0.8976\n",
            "Epoch 13/30\n",
            "1719/1719 [==============================] - 5s 3ms/step - loss: 0.1838 - accuracy: 0.9349 - val_loss: 0.3037 - val_accuracy: 0.8902\n",
            "Epoch 14/30\n",
            "1719/1719 [==============================] - 5s 3ms/step - loss: 0.1794 - accuracy: 0.9360 - val_loss: 0.2971 - val_accuracy: 0.8938\n",
            "Epoch 15/30\n",
            "1719/1719 [==============================] - 5s 3ms/step - loss: 0.1777 - accuracy: 0.9351 - val_loss: 0.2990 - val_accuracy: 0.8946\n",
            "Epoch 16/30\n",
            "1719/1719 [==============================] - 5s 3ms/step - loss: 0.1749 - accuracy: 0.9375 - val_loss: 0.2999 - val_accuracy: 0.8972\n",
            "Epoch 17/30\n",
            "1719/1719 [==============================] - 5s 3ms/step - loss: 0.1724 - accuracy: 0.9391 - val_loss: 0.2988 - val_accuracy: 0.8926\n",
            "Epoch 18/30\n",
            "1719/1719 [==============================] - 5s 3ms/step - loss: 0.1700 - accuracy: 0.9397 - val_loss: 0.3078 - val_accuracy: 0.8930\n",
            "Epoch 19/30\n",
            "1719/1719 [==============================] - 5s 3ms/step - loss: 0.1671 - accuracy: 0.9399 - val_loss: 0.3120 - val_accuracy: 0.8892\n",
            "Epoch 20/30\n",
            "1719/1719 [==============================] - 5s 3ms/step - loss: 0.1643 - accuracy: 0.9411 - val_loss: 0.3097 - val_accuracy: 0.8944\n",
            "Epoch 21/30\n",
            "1719/1719 [==============================] - 5s 3ms/step - loss: 0.1618 - accuracy: 0.9421 - val_loss: 0.3077 - val_accuracy: 0.8932\n",
            "Epoch 22/30\n",
            "1719/1719 [==============================] - 5s 3ms/step - loss: 0.1594 - accuracy: 0.9438 - val_loss: 0.3133 - val_accuracy: 0.8864\n",
            "Epoch 23/30\n",
            "1719/1719 [==============================] - 5s 3ms/step - loss: 0.1572 - accuracy: 0.9441 - val_loss: 0.2970 - val_accuracy: 0.8994\n",
            "Epoch 24/30\n",
            "1719/1719 [==============================] - 5s 3ms/step - loss: 0.1547 - accuracy: 0.9441 - val_loss: 0.3245 - val_accuracy: 0.8944\n",
            "Epoch 25/30\n",
            "1719/1719 [==============================] - 5s 3ms/step - loss: 0.1515 - accuracy: 0.9467 - val_loss: 0.3355 - val_accuracy: 0.8886\n",
            "Epoch 26/30\n",
            "1719/1719 [==============================] - 5s 3ms/step - loss: 0.1496 - accuracy: 0.9478 - val_loss: 0.3252 - val_accuracy: 0.8920\n",
            "Epoch 27/30\n",
            "1719/1719 [==============================] - 5s 3ms/step - loss: 0.1483 - accuracy: 0.9469 - val_loss: 0.2979 - val_accuracy: 0.8996\n",
            "Epoch 28/30\n",
            "1719/1719 [==============================] - 5s 3ms/step - loss: 0.1449 - accuracy: 0.9486 - val_loss: 0.3086 - val_accuracy: 0.8946\n",
            "Epoch 29/30\n",
            "1719/1719 [==============================] - 5s 3ms/step - loss: 0.1437 - accuracy: 0.9491 - val_loss: 0.3115 - val_accuracy: 0.8962\n",
            "Epoch 30/30\n",
            "1719/1719 [==============================] - 5s 3ms/step - loss: 0.1407 - accuracy: 0.9500 - val_loss: 0.3135 - val_accuracy: 0.8954\n"
          ],
          "name": "stdout"
        }
      ]
    },
    {
      "cell_type": "code",
      "metadata": {
        "id": "FtnND4sqGfMO",
        "colab_type": "code",
        "outputId": "acc26206-1a1d-4948-c4d8-cae33be058d7",
        "colab": {
          "base_uri": "https://localhost:8080/",
          "height": 34
        }
      },
      "source": [
        "history.params"
      ],
      "execution_count": 28,
      "outputs": [
        {
          "output_type": "execute_result",
          "data": {
            "text/plain": [
              "{'epochs': 30, 'steps': 1719, 'verbose': 1}"
            ]
          },
          "metadata": {
            "tags": []
          },
          "execution_count": 28
        }
      ]
    },
    {
      "cell_type": "code",
      "metadata": {
        "id": "A1J0I3otKmBI",
        "colab_type": "code",
        "outputId": "db01db9e-899f-45b1-e20e-8f6a64571b11",
        "colab": {
          "base_uri": "https://localhost:8080/",
          "height": 286
        }
      },
      "source": [
        "import pandas as pd\n",
        "pd.DataFrame(history.history).plot(figsize=(8,4))\n",
        "plt.grid(True)\n",
        "plt.gca().set_ylim(0,1)"
      ],
      "execution_count": 29,
      "outputs": [
        {
          "output_type": "execute_result",
          "data": {
            "text/plain": [
              "(0.0, 1.0)"
            ]
          },
          "metadata": {
            "tags": []
          },
          "execution_count": 29
        },
        {
          "output_type": "display_data",
          "data": {
            "image/png": "[encoded data removed]",
            "text/plain": [
              "<Figure size 576x288 with 1 Axes>"
            ]
          },
          "metadata": {
            "tags": [],
            "needs_background": "light"
          }
        }
      ]
    },
    {
      "cell_type": "markdown",
      "metadata": {
        "id": "hHnbem8gNseI",
        "colab_type": "text"
      },
      "source": [
        "Evaluation of model\n"
      ]
    },
    {
      "cell_type": "code",
      "metadata": {
        "id": "je2rgHTOM_O2",
        "colab_type": "code",
        "outputId": "90bc1cfb-f832-4ece-c752-28fed120ceae",
        "colab": {
          "base_uri": "https://localhost:8080/",
          "height": 50
        }
      },
      "source": [
        "model.evaluate(X_test,y_test)"
      ],
      "execution_count": 30,
      "outputs": [
        {
          "output_type": "stream",
          "text": [
            "313/313 [==============================] - 1s 2ms/step - loss: 0.3454 - accuracy: 0.8896\n"
          ],
          "name": "stdout"
        },
        {
          "output_type": "execute_result",
          "data": {
            "text/plain": [
              "[0.3454113006591797, 0.8895999789237976]"
            ]
          },
          "metadata": {
            "tags": []
          },
          "execution_count": 30
        }
      ]
    }
  ]
}